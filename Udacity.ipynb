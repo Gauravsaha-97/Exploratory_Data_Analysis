{
  "nbformat": 4,
  "nbformat_minor": 0,
  "metadata": {
    "colab": {
      "name": "Udacity.ipynb",
      "provenance": [],
      "authorship_tag": "ABX9TyMiYTM5zAD9/zFmIDaCWxbi",
      "include_colab_link": true
    },
    "kernelspec": {
      "name": "python3",
      "display_name": "Python 3"
    }
  },
  "cells": [
    {
      "cell_type": "markdown",
      "metadata": {
        "id": "view-in-github",
        "colab_type": "text"
      },
      "source": [
        "<a href=\"https://colab.research.google.com/github/Gauravsaha-97/Exploratory_Data_Analysis/blob/master/Udacity.ipynb\" target=\"_parent\"><img src=\"https://colab.research.google.com/assets/colab-badge.svg\" alt=\"Open In Colab\"/></a>"
      ]
    },
    {
      "cell_type": "markdown",
      "metadata": {
        "id": "PSKYxFrasw_R",
        "colab_type": "text"
      },
      "source": [
        ""
      ]
    },
    {
      "cell_type": "markdown",
      "metadata": {
        "id": "bNu2auQKt96I",
        "colab_type": "text"
      },
      "source": [
        "# Project: Exploratory Data Analysis using Python\n",
        "\n",
        "## Table of Contents\n",
        "<ul>\n",
        "<li><a href=\"#intro\">Introduction</a></li>\n",
        "<li><a href=\"#wrangling\">Data Wrangling</a></li>\n",
        "<li><a href=\"#eda\">Exploratory Data Analysis</a></li>\n",
        "<li><a href=\"#conclusions\">Conclusions</a></li>\n",
        "</ul>"
      ]
    },
    {
      "cell_type": "markdown",
      "metadata": {
        "id": "0O_exNhksz2p",
        "colab_type": "text"
      },
      "source": [
        "<a id='intro'></a>\n",
        "## <b>Introduction</b>\n",
        "This dataset collects information from 100k medical appointments in Brazil and is focused on the question of whether or not patients show up for their appointment. A number of characteristics about the patient are included in each row.\n",
        "<ul>\n",
        "<li>‘ScheduledDay’ tells us on what day the patient set up their appointment.</li>\n",
        "<li>‘Neighborhood’ indicates the location of the hospital.</li>\n",
        "<li>‘Scholarship’ indicates whether or not the patient is enrolled in Brasilian welfare program Bolsa Família.</li>"
      ]
    },
    {
      "cell_type": "code",
      "metadata": {
        "id": "U4oAsw3xr7a5",
        "colab_type": "code",
        "colab": {}
      },
      "source": [
        "# Importing packages\n",
        "import numpy as np\n",
        "import pandas as pd\n",
        "import matplotlib.pyplot as plt\n",
        "import seaborn as sns\n",
        "%matplotlib inline"
      ],
      "execution_count": null,
      "outputs": []
    },
    {
      "cell_type": "markdown",
      "metadata": {
        "id": "0XPDPsZ4uXe6",
        "colab_type": "text"
      },
      "source": [
        "<a id='wrangling'></a>\n",
        "## Data Wrangling\n",
        "\n",
        "> In this section of the report, we will load in the data, check for cleaing the data and conduct exploratory data analysis to determine which features are conclusive to predict the target.\n"
      ]
    },
    {
      "cell_type": "code",
      "metadata": {
        "id": "AsZrc80JtIwK",
        "colab_type": "code",
        "colab": {
          "base_uri": "https://localhost:8080/",
          "height": 322
        },
        "outputId": "05f9858a-372b-4165-9e0a-e70f568709e3"
      },
      "source": [
        "# Read Data using Pandas and store the data in the Dataframe \"appointment_dataset\"\n",
        "appointment_dataset = pd.read_csv(\"KaggleV2-May-2016.csv\")\n",
        "appointment_dataset.head()"
      ],
      "execution_count": null,
      "outputs": [
        {
          "output_type": "execute_result",
          "data": {
            "text/html": [
              "<div>\n",
              "<style scoped>\n",
              "    .dataframe tbody tr th:only-of-type {\n",
              "        vertical-align: middle;\n",
              "    }\n",
              "\n",
              "    .dataframe tbody tr th {\n",
              "        vertical-align: top;\n",
              "    }\n",
              "\n",
              "    .dataframe thead th {\n",
              "        text-align: right;\n",
              "    }\n",
              "</style>\n",
              "<table border=\"1\" class=\"dataframe\">\n",
              "  <thead>\n",
              "    <tr style=\"text-align: right;\">\n",
              "      <th></th>\n",
              "      <th>PatientId</th>\n",
              "      <th>AppointmentID</th>\n",
              "      <th>Gender</th>\n",
              "      <th>ScheduledDay</th>\n",
              "      <th>AppointmentDay</th>\n",
              "      <th>Age</th>\n",
              "      <th>Neighbourhood</th>\n",
              "      <th>Scholarship</th>\n",
              "      <th>Hipertension</th>\n",
              "      <th>Diabetes</th>\n",
              "      <th>Alcoholism</th>\n",
              "      <th>Handcap</th>\n",
              "      <th>SMS_received</th>\n",
              "      <th>No-show</th>\n",
              "    </tr>\n",
              "  </thead>\n",
              "  <tbody>\n",
              "    <tr>\n",
              "      <th>0</th>\n",
              "      <td>2.987250e+13</td>\n",
              "      <td>5642903</td>\n",
              "      <td>F</td>\n",
              "      <td>2016-04-29T18:38:08Z</td>\n",
              "      <td>2016-04-29T00:00:00Z</td>\n",
              "      <td>62</td>\n",
              "      <td>JARDIM DA PENHA</td>\n",
              "      <td>0</td>\n",
              "      <td>1</td>\n",
              "      <td>0</td>\n",
              "      <td>0</td>\n",
              "      <td>0</td>\n",
              "      <td>0</td>\n",
              "      <td>No</td>\n",
              "    </tr>\n",
              "    <tr>\n",
              "      <th>1</th>\n",
              "      <td>5.589978e+14</td>\n",
              "      <td>5642503</td>\n",
              "      <td>M</td>\n",
              "      <td>2016-04-29T16:08:27Z</td>\n",
              "      <td>2016-04-29T00:00:00Z</td>\n",
              "      <td>56</td>\n",
              "      <td>JARDIM DA PENHA</td>\n",
              "      <td>0</td>\n",
              "      <td>0</td>\n",
              "      <td>0</td>\n",
              "      <td>0</td>\n",
              "      <td>0</td>\n",
              "      <td>0</td>\n",
              "      <td>No</td>\n",
              "    </tr>\n",
              "    <tr>\n",
              "      <th>2</th>\n",
              "      <td>4.262962e+12</td>\n",
              "      <td>5642549</td>\n",
              "      <td>F</td>\n",
              "      <td>2016-04-29T16:19:04Z</td>\n",
              "      <td>2016-04-29T00:00:00Z</td>\n",
              "      <td>62</td>\n",
              "      <td>MATA DA PRAIA</td>\n",
              "      <td>0</td>\n",
              "      <td>0</td>\n",
              "      <td>0</td>\n",
              "      <td>0</td>\n",
              "      <td>0</td>\n",
              "      <td>0</td>\n",
              "      <td>No</td>\n",
              "    </tr>\n",
              "    <tr>\n",
              "      <th>3</th>\n",
              "      <td>8.679512e+11</td>\n",
              "      <td>5642828</td>\n",
              "      <td>F</td>\n",
              "      <td>2016-04-29T17:29:31Z</td>\n",
              "      <td>2016-04-29T00:00:00Z</td>\n",
              "      <td>8</td>\n",
              "      <td>PONTAL DE CAMBURI</td>\n",
              "      <td>0</td>\n",
              "      <td>0</td>\n",
              "      <td>0</td>\n",
              "      <td>0</td>\n",
              "      <td>0</td>\n",
              "      <td>0</td>\n",
              "      <td>No</td>\n",
              "    </tr>\n",
              "    <tr>\n",
              "      <th>4</th>\n",
              "      <td>8.841186e+12</td>\n",
              "      <td>5642494</td>\n",
              "      <td>F</td>\n",
              "      <td>2016-04-29T16:07:23Z</td>\n",
              "      <td>2016-04-29T00:00:00Z</td>\n",
              "      <td>56</td>\n",
              "      <td>JARDIM DA PENHA</td>\n",
              "      <td>0</td>\n",
              "      <td>1</td>\n",
              "      <td>1</td>\n",
              "      <td>0</td>\n",
              "      <td>0</td>\n",
              "      <td>0</td>\n",
              "      <td>No</td>\n",
              "    </tr>\n",
              "  </tbody>\n",
              "</table>\n",
              "</div>"
            ],
            "text/plain": [
              "      PatientId  AppointmentID Gender  ... Handcap SMS_received  No-show\n",
              "0  2.987250e+13        5642903      F  ...       0            0       No\n",
              "1  5.589978e+14        5642503      M  ...       0            0       No\n",
              "2  4.262962e+12        5642549      F  ...       0            0       No\n",
              "3  8.679512e+11        5642828      F  ...       0            0       No\n",
              "4  8.841186e+12        5642494      F  ...       0            0       No\n",
              "\n",
              "[5 rows x 14 columns]"
            ]
          },
          "metadata": {
            "tags": []
          },
          "execution_count": 3
        }
      ]
    },
    {
      "cell_type": "code",
      "metadata": {
        "id": "4i5IWYA5teJA",
        "colab_type": "code",
        "colab": {
          "base_uri": "https://localhost:8080/",
          "height": 35
        },
        "outputId": "eda2bed1-51ab-4373-8500-aca0a2b5b884"
      },
      "source": [
        "# Collecting information about the dataset\n",
        "appointment_dataset.shape"
      ],
      "execution_count": null,
      "outputs": [
        {
          "output_type": "execute_result",
          "data": {
            "text/plain": [
              "(110527, 14)"
            ]
          },
          "metadata": {
            "tags": []
          },
          "execution_count": 5
        }
      ]
    },
    {
      "cell_type": "markdown",
      "metadata": {
        "id": "_alty8YMu-s6",
        "colab_type": "text"
      },
      "source": [
        "There are 14 features and 110527 rows in our data"
      ]
    },
    {
      "cell_type": "code",
      "metadata": {
        "id": "-Rui_vB6vENB",
        "colab_type": "code",
        "colab": {
          "base_uri": "https://localhost:8080/",
          "height": 399
        },
        "outputId": "10be3ec4-c505-4d46-d009-ccf80126d19a"
      },
      "source": [
        "appointment_dataset.info()"
      ],
      "execution_count": null,
      "outputs": [
        {
          "output_type": "stream",
          "text": [
            "<class 'pandas.core.frame.DataFrame'>\n",
            "RangeIndex: 110527 entries, 0 to 110526\n",
            "Data columns (total 14 columns):\n",
            " #   Column          Non-Null Count   Dtype  \n",
            "---  ------          --------------   -----  \n",
            " 0   PatientId       110527 non-null  float64\n",
            " 1   AppointmentID   110527 non-null  int64  \n",
            " 2   Gender          110527 non-null  object \n",
            " 3   ScheduledDay    110527 non-null  object \n",
            " 4   AppointmentDay  110527 non-null  object \n",
            " 5   Age             110527 non-null  int64  \n",
            " 6   Neighbourhood   110527 non-null  object \n",
            " 7   Scholarship     110527 non-null  int64  \n",
            " 8   Hipertension    110527 non-null  int64  \n",
            " 9   Diabetes        110527 non-null  int64  \n",
            " 10  Alcoholism      110527 non-null  int64  \n",
            " 11  Handcap         110527 non-null  int64  \n",
            " 12  SMS_received    110527 non-null  int64  \n",
            " 13  No-show         110527 non-null  object \n",
            "dtypes: float64(1), int64(8), object(5)\n",
            "memory usage: 11.8+ MB\n"
          ],
          "name": "stdout"
        }
      ]
    },
    {
      "cell_type": "markdown",
      "metadata": {
        "id": "2apvOi-lvKGy",
        "colab_type": "text"
      },
      "source": [
        "There are no null values in our dataset. However, we will investigate this furthur. \n"
      ]
    },
    {
      "cell_type": "code",
      "metadata": {
        "id": "Vlk8hO5rvVFx",
        "colab_type": "code",
        "colab": {
          "base_uri": "https://localhost:8080/",
          "height": 35
        },
        "outputId": "471d8137-39c1-43ae-d634-78b0608028b7"
      },
      "source": [
        "appointment_dataset.duplicated().sum()"
      ],
      "execution_count": null,
      "outputs": [
        {
          "output_type": "execute_result",
          "data": {
            "text/plain": [
              "0"
            ]
          },
          "metadata": {
            "tags": []
          },
          "execution_count": 7
        }
      ]
    },
    {
      "cell_type": "markdown",
      "metadata": {
        "id": "GABedDMivfhx",
        "colab_type": "text"
      },
      "source": [
        "There are no duplicated data in out dataset."
      ]
    },
    {
      "cell_type": "code",
      "metadata": {
        "id": "vuow2hk_vipQ",
        "colab_type": "code",
        "colab": {}
      },
      "source": [
        "# Converting 'ScheduleDay' and 'AppointmentDay' to Datetime object\n",
        "appointment_dataset['ScheduledDay'] = pd.to_datetime(appointment_dataset['ScheduledDay'])\n",
        "appointment_dataset['AppointmentDay'] = pd.to_datetime(appointment_dataset['AppointmentDay'])"
      ],
      "execution_count": null,
      "outputs": []
    },
    {
      "cell_type": "code",
      "metadata": {
        "id": "SlvGTPCbv7bW",
        "colab_type": "code",
        "colab": {
          "base_uri": "https://localhost:8080/",
          "height": 290
        },
        "outputId": "7822d87f-8561-4109-edd0-ed755f70afe1"
      },
      "source": [
        "appointment_dataset.isnull().any()"
      ],
      "execution_count": null,
      "outputs": [
        {
          "output_type": "execute_result",
          "data": {
            "text/plain": [
              "PatientId         False\n",
              "AppointmentID     False\n",
              "Gender            False\n",
              "ScheduledDay      False\n",
              "AppointmentDay    False\n",
              "Age               False\n",
              "Neighbourhood     False\n",
              "Scholarship       False\n",
              "Hipertension      False\n",
              "Diabetes          False\n",
              "Alcoholism        False\n",
              "Handcap           False\n",
              "SMS_received      False\n",
              "No-show           False\n",
              "dtype: bool"
            ]
          },
          "metadata": {
            "tags": []
          },
          "execution_count": 9
        }
      ]
    },
    {
      "cell_type": "markdown",
      "metadata": {
        "id": "en-9MSDdwFRl",
        "colab_type": "text"
      },
      "source": [
        "There are no null values in our dataset.\n",
        "Now, the 'PatiendId' and 'AppointmentId' columns are unique for all indivisuals and hence totally irrevelant to run EDA. So, we drop those columns"
      ]
    },
    {
      "cell_type": "code",
      "metadata": {
        "id": "4vwHHdeTwD9x",
        "colab_type": "code",
        "colab": {
          "base_uri": "https://localhost:8080/",
          "height": 302
        },
        "outputId": "abd7960a-77f7-4032-fc44-679cf8be60da"
      },
      "source": [
        "appointment_dataset.drop(['PatientId','AppointmentID'], axis = 1, inplace = True)\n",
        "appointment_dataset.head()"
      ],
      "execution_count": null,
      "outputs": [
        {
          "output_type": "execute_result",
          "data": {
            "text/html": [
              "<div>\n",
              "<style scoped>\n",
              "    .dataframe tbody tr th:only-of-type {\n",
              "        vertical-align: middle;\n",
              "    }\n",
              "\n",
              "    .dataframe tbody tr th {\n",
              "        vertical-align: top;\n",
              "    }\n",
              "\n",
              "    .dataframe thead th {\n",
              "        text-align: right;\n",
              "    }\n",
              "</style>\n",
              "<table border=\"1\" class=\"dataframe\">\n",
              "  <thead>\n",
              "    <tr style=\"text-align: right;\">\n",
              "      <th></th>\n",
              "      <th>Gender</th>\n",
              "      <th>ScheduledDay</th>\n",
              "      <th>AppointmentDay</th>\n",
              "      <th>Age</th>\n",
              "      <th>Neighbourhood</th>\n",
              "      <th>Scholarship</th>\n",
              "      <th>Hipertension</th>\n",
              "      <th>Diabetes</th>\n",
              "      <th>Alcoholism</th>\n",
              "      <th>Handcap</th>\n",
              "      <th>SMS_received</th>\n",
              "      <th>No-show</th>\n",
              "    </tr>\n",
              "  </thead>\n",
              "  <tbody>\n",
              "    <tr>\n",
              "      <th>0</th>\n",
              "      <td>F</td>\n",
              "      <td>2016-04-29 18:38:08+00:00</td>\n",
              "      <td>2016-04-29 00:00:00+00:00</td>\n",
              "      <td>62</td>\n",
              "      <td>JARDIM DA PENHA</td>\n",
              "      <td>0</td>\n",
              "      <td>1</td>\n",
              "      <td>0</td>\n",
              "      <td>0</td>\n",
              "      <td>0</td>\n",
              "      <td>0</td>\n",
              "      <td>No</td>\n",
              "    </tr>\n",
              "    <tr>\n",
              "      <th>1</th>\n",
              "      <td>M</td>\n",
              "      <td>2016-04-29 16:08:27+00:00</td>\n",
              "      <td>2016-04-29 00:00:00+00:00</td>\n",
              "      <td>56</td>\n",
              "      <td>JARDIM DA PENHA</td>\n",
              "      <td>0</td>\n",
              "      <td>0</td>\n",
              "      <td>0</td>\n",
              "      <td>0</td>\n",
              "      <td>0</td>\n",
              "      <td>0</td>\n",
              "      <td>No</td>\n",
              "    </tr>\n",
              "    <tr>\n",
              "      <th>2</th>\n",
              "      <td>F</td>\n",
              "      <td>2016-04-29 16:19:04+00:00</td>\n",
              "      <td>2016-04-29 00:00:00+00:00</td>\n",
              "      <td>62</td>\n",
              "      <td>MATA DA PRAIA</td>\n",
              "      <td>0</td>\n",
              "      <td>0</td>\n",
              "      <td>0</td>\n",
              "      <td>0</td>\n",
              "      <td>0</td>\n",
              "      <td>0</td>\n",
              "      <td>No</td>\n",
              "    </tr>\n",
              "    <tr>\n",
              "      <th>3</th>\n",
              "      <td>F</td>\n",
              "      <td>2016-04-29 17:29:31+00:00</td>\n",
              "      <td>2016-04-29 00:00:00+00:00</td>\n",
              "      <td>8</td>\n",
              "      <td>PONTAL DE CAMBURI</td>\n",
              "      <td>0</td>\n",
              "      <td>0</td>\n",
              "      <td>0</td>\n",
              "      <td>0</td>\n",
              "      <td>0</td>\n",
              "      <td>0</td>\n",
              "      <td>No</td>\n",
              "    </tr>\n",
              "    <tr>\n",
              "      <th>4</th>\n",
              "      <td>F</td>\n",
              "      <td>2016-04-29 16:07:23+00:00</td>\n",
              "      <td>2016-04-29 00:00:00+00:00</td>\n",
              "      <td>56</td>\n",
              "      <td>JARDIM DA PENHA</td>\n",
              "      <td>0</td>\n",
              "      <td>1</td>\n",
              "      <td>1</td>\n",
              "      <td>0</td>\n",
              "      <td>0</td>\n",
              "      <td>0</td>\n",
              "      <td>No</td>\n",
              "    </tr>\n",
              "  </tbody>\n",
              "</table>\n",
              "</div>"
            ],
            "text/plain": [
              "  Gender              ScheduledDay  ... SMS_received  No-show\n",
              "0      F 2016-04-29 18:38:08+00:00  ...            0       No\n",
              "1      M 2016-04-29 16:08:27+00:00  ...            0       No\n",
              "2      F 2016-04-29 16:19:04+00:00  ...            0       No\n",
              "3      F 2016-04-29 17:29:31+00:00  ...            0       No\n",
              "4      F 2016-04-29 16:07:23+00:00  ...            0       No\n",
              "\n",
              "[5 rows x 12 columns]"
            ]
          },
          "metadata": {
            "tags": []
          },
          "execution_count": 12
        }
      ]
    },
    {
      "cell_type": "markdown",
      "metadata": {
        "id": "n7SQXPpJy0u1",
        "colab_type": "text"
      },
      "source": [
        "We create a column 'Days_Gap' which records the number of days between the Scheduled Day and Appointment day"
      ]
    },
    {
      "cell_type": "code",
      "metadata": {
        "id": "of06XzEUx1Bk",
        "colab_type": "code",
        "colab": {
          "base_uri": "https://localhost:8080/",
          "height": 322
        },
        "outputId": "8473051c-df8c-4f77-b002-b15e5a04bda1"
      },
      "source": [
        "appointment_dataset['Days_Gap'] = ((appointment_dataset['AppointmentDay']-appointment_dataset['ScheduledDay']).dt.days)+1\n",
        "appointment_dataset.head()"
      ],
      "execution_count": null,
      "outputs": [
        {
          "output_type": "execute_result",
          "data": {
            "text/html": [
              "<div>\n",
              "<style scoped>\n",
              "    .dataframe tbody tr th:only-of-type {\n",
              "        vertical-align: middle;\n",
              "    }\n",
              "\n",
              "    .dataframe tbody tr th {\n",
              "        vertical-align: top;\n",
              "    }\n",
              "\n",
              "    .dataframe thead th {\n",
              "        text-align: right;\n",
              "    }\n",
              "</style>\n",
              "<table border=\"1\" class=\"dataframe\">\n",
              "  <thead>\n",
              "    <tr style=\"text-align: right;\">\n",
              "      <th></th>\n",
              "      <th>Gender</th>\n",
              "      <th>ScheduledDay</th>\n",
              "      <th>AppointmentDay</th>\n",
              "      <th>Age</th>\n",
              "      <th>Neighbourhood</th>\n",
              "      <th>Scholarship</th>\n",
              "      <th>Hipertension</th>\n",
              "      <th>Diabetes</th>\n",
              "      <th>Alcoholism</th>\n",
              "      <th>Handcap</th>\n",
              "      <th>SMS_received</th>\n",
              "      <th>No-show</th>\n",
              "      <th>Days_Gap</th>\n",
              "    </tr>\n",
              "  </thead>\n",
              "  <tbody>\n",
              "    <tr>\n",
              "      <th>0</th>\n",
              "      <td>F</td>\n",
              "      <td>2016-04-29 18:38:08+00:00</td>\n",
              "      <td>2016-04-29 00:00:00+00:00</td>\n",
              "      <td>62</td>\n",
              "      <td>JARDIM DA PENHA</td>\n",
              "      <td>0</td>\n",
              "      <td>1</td>\n",
              "      <td>0</td>\n",
              "      <td>0</td>\n",
              "      <td>0</td>\n",
              "      <td>0</td>\n",
              "      <td>No</td>\n",
              "      <td>0</td>\n",
              "    </tr>\n",
              "    <tr>\n",
              "      <th>1</th>\n",
              "      <td>M</td>\n",
              "      <td>2016-04-29 16:08:27+00:00</td>\n",
              "      <td>2016-04-29 00:00:00+00:00</td>\n",
              "      <td>56</td>\n",
              "      <td>JARDIM DA PENHA</td>\n",
              "      <td>0</td>\n",
              "      <td>0</td>\n",
              "      <td>0</td>\n",
              "      <td>0</td>\n",
              "      <td>0</td>\n",
              "      <td>0</td>\n",
              "      <td>No</td>\n",
              "      <td>0</td>\n",
              "    </tr>\n",
              "    <tr>\n",
              "      <th>2</th>\n",
              "      <td>F</td>\n",
              "      <td>2016-04-29 16:19:04+00:00</td>\n",
              "      <td>2016-04-29 00:00:00+00:00</td>\n",
              "      <td>62</td>\n",
              "      <td>MATA DA PRAIA</td>\n",
              "      <td>0</td>\n",
              "      <td>0</td>\n",
              "      <td>0</td>\n",
              "      <td>0</td>\n",
              "      <td>0</td>\n",
              "      <td>0</td>\n",
              "      <td>No</td>\n",
              "      <td>0</td>\n",
              "    </tr>\n",
              "    <tr>\n",
              "      <th>3</th>\n",
              "      <td>F</td>\n",
              "      <td>2016-04-29 17:29:31+00:00</td>\n",
              "      <td>2016-04-29 00:00:00+00:00</td>\n",
              "      <td>8</td>\n",
              "      <td>PONTAL DE CAMBURI</td>\n",
              "      <td>0</td>\n",
              "      <td>0</td>\n",
              "      <td>0</td>\n",
              "      <td>0</td>\n",
              "      <td>0</td>\n",
              "      <td>0</td>\n",
              "      <td>No</td>\n",
              "      <td>0</td>\n",
              "    </tr>\n",
              "    <tr>\n",
              "      <th>4</th>\n",
              "      <td>F</td>\n",
              "      <td>2016-04-29 16:07:23+00:00</td>\n",
              "      <td>2016-04-29 00:00:00+00:00</td>\n",
              "      <td>56</td>\n",
              "      <td>JARDIM DA PENHA</td>\n",
              "      <td>0</td>\n",
              "      <td>1</td>\n",
              "      <td>1</td>\n",
              "      <td>0</td>\n",
              "      <td>0</td>\n",
              "      <td>0</td>\n",
              "      <td>No</td>\n",
              "      <td>0</td>\n",
              "    </tr>\n",
              "  </tbody>\n",
              "</table>\n",
              "</div>"
            ],
            "text/plain": [
              "  Gender              ScheduledDay  ... No-show  Days_Gap\n",
              "0      F 2016-04-29 18:38:08+00:00  ...      No         0\n",
              "1      M 2016-04-29 16:08:27+00:00  ...      No         0\n",
              "2      F 2016-04-29 16:19:04+00:00  ...      No         0\n",
              "3      F 2016-04-29 17:29:31+00:00  ...      No         0\n",
              "4      F 2016-04-29 16:07:23+00:00  ...      No         0\n",
              "\n",
              "[5 rows x 13 columns]"
            ]
          },
          "metadata": {
            "tags": []
          },
          "execution_count": 19
        }
      ]
    },
    {
      "cell_type": "markdown",
      "metadata": {
        "id": "isCx-ctqn2sq",
        "colab_type": "text"
      },
      "source": [
        "##<b>Exploratory Data Analysis"
      ]
    },
    {
      "cell_type": "markdown",
      "metadata": {
        "id": "hNTDK6H1zCSz",
        "colab_type": "text"
      },
      "source": [
        "# <b>What is the distribution of Males and Females in out dataset?</b>\n"
      ]
    },
    {
      "cell_type": "code",
      "metadata": {
        "id": "Up_UQLKl0bp0",
        "colab_type": "code",
        "colab": {
          "base_uri": "https://localhost:8080/",
          "height": 72
        },
        "outputId": "9d7dade7-808d-44d5-8868-80a2b79c3054"
      },
      "source": [
        "gender_distribution = appointment_dataset['Gender'].value_counts()\n",
        "print(gender_distribution)"
      ],
      "execution_count": null,
      "outputs": [
        {
          "output_type": "stream",
          "text": [
            "F    71840\n",
            "M    38687\n",
            "Name: Gender, dtype: int64\n"
          ],
          "name": "stdout"
        }
      ]
    },
    {
      "cell_type": "markdown",
      "metadata": {
        "id": "ltRMrPlJ1Jwo",
        "colab_type": "text"
      },
      "source": [
        "There are 71840 females and 38387 males in out dataset. Lets found out the proportion of them"
      ]
    },
    {
      "cell_type": "code",
      "metadata": {
        "id": "2wPzc8-d0vDx",
        "colab_type": "code",
        "colab": {
          "base_uri": "https://localhost:8080/",
          "height": 72
        },
        "outputId": "ea04de98-50c6-42c8-a046-188abaca0098"
      },
      "source": [
        "gender_proportion = appointment_dataset['Gender'].value_counts()/appointment_dataset.shape[0]\n",
        "print(gender_proportion)"
      ],
      "execution_count": null,
      "outputs": [
        {
          "output_type": "stream",
          "text": [
            "F    0.649977\n",
            "M    0.350023\n",
            "Name: Gender, dtype: float64\n"
          ],
          "name": "stdout"
        }
      ]
    },
    {
      "cell_type": "markdown",
      "metadata": {
        "id": "jkocTdLY1e4a",
        "colab_type": "text"
      },
      "source": [
        "64.99% are Females and 35.00% are males in our dataset"
      ]
    },
    {
      "cell_type": "code",
      "metadata": {
        "id": "-kohANMQ1doI",
        "colab_type": "code",
        "colab": {
          "base_uri": "https://localhost:8080/",
          "height": 505
        },
        "outputId": "760c9da6-c87d-414e-9d16-866e488a69c4"
      },
      "source": [
        "# Distribution of Males and Females\n",
        "sns.set_style('darkgrid')\n",
        "plt.figure(figsize = (8,8))\n",
        "location = [1,2]\n",
        "height = [gender_proportion[0],gender_proportion[1]]\n",
        "labels = ['Females', 'Males']\n",
        "color = ['#ffa31a','#66ff33']\n",
        "plt.bar(location, height, tick_label = labels, color=color, width = 0.4)\n",
        "plt.xlabel('Gender',fontsize=18)\n",
        "plt.ylabel('Proportion of Males and Females', fontsize = 18)\n",
        "plt.show()"
      ],
      "execution_count": 230,
      "outputs": [
        {
          "output_type": "display_data",
          "data": {
            "image/png": "[encoded data removed]",
            "text/plain": [
              "<Figure size 576x576 with 1 Axes>"
            ]
          },
          "metadata": {
            "tags": []
          }
        }
      ]
    },
    {
      "cell_type": "markdown",
      "metadata": {
        "id": "Z87k4DQk6vgC",
        "colab_type": "text"
      },
      "source": [
        "## <b>What proportion of Females have Hipertension?\n",
        "## What proportion of males have hipertension?</b>"
      ]
    },
    {
      "cell_type": "code",
      "metadata": {
        "id": "DdiL7Ama3Vgs",
        "colab_type": "code",
        "colab": {
          "base_uri": "https://localhost:8080/",
          "height": 126
        },
        "outputId": "f41e2fd2-51c0-41a9-b2f1-fe02428925b7"
      },
      "source": [
        "# Get the value counts of hipertension patients group by Gender\n",
        "hipertension_count = appointment_dataset.groupby('Gender')['Hipertension'].value_counts()\n",
        "hipertension_count"
      ],
      "execution_count": null,
      "outputs": [
        {
          "output_type": "execute_result",
          "data": {
            "text/plain": [
              "Gender  Hipertension\n",
              "F       0               56501\n",
              "        1               15339\n",
              "M       0               32225\n",
              "        1                6462\n",
              "Name: Hipertension, dtype: int64"
            ]
          },
          "metadata": {
            "tags": []
          },
          "execution_count": 50
        }
      ]
    },
    {
      "cell_type": "markdown",
      "metadata": {
        "id": "GJ_aGfL57KbU",
        "colab_type": "text"
      },
      "source": [
        "56501 Females have hipertension and 6462 Males have hipertension"
      ]
    },
    {
      "cell_type": "code",
      "metadata": {
        "id": "1a5SRs7-34t2",
        "colab_type": "code",
        "colab": {
          "base_uri": "https://localhost:8080/",
          "height": 54
        },
        "outputId": "d230f1fe-c2a5-4174-cbbc-0c2d88428643"
      },
      "source": [
        "print(\"Proportion of Female Hipertension Patients = {}\".format(hipertension_count[1]/gender_distribution[0]))\n",
        "print(\"Proportion of Male Hipertension Patients = {}\".format(hipertension_count[3]/gender_distribution[1]))"
      ],
      "execution_count": null,
      "outputs": [
        {
          "output_type": "stream",
          "text": [
            "Proportion of Female Hipertension Patients = 0.21351614699331847\n",
            "Proportion of Male Hipertension Patients = 0.1670328534132913\n"
          ],
          "name": "stdout"
        }
      ]
    },
    {
      "cell_type": "code",
      "metadata": {
        "id": "MZjZ8M686AAu",
        "colab_type": "code",
        "colab": {
          "base_uri": "https://localhost:8080/",
          "height": 610
        },
        "outputId": "e4315495-c70f-46ce-cde0-9e0efe69a9b1"
      },
      "source": [
        "# Distribution of Male and Female Hipertension Patients\n",
        "sns.set_style('darkgrid')\n",
        "plt.figure(figsize = (10,10))\n",
        "location = [1,2,3,4]\n",
        "height = [hipertension_count[0],hipertension_count[1], hipertension_count[2], hipertension_count[3]]\n",
        "labels = ['Females_No', 'Females_Yes','Males_No', 'Males_Yes']\n",
        "color = ['#ff1a1a','#66ff33','#ff1a1a','#66ff33']\n",
        "plt.bar(location, height, tick_label = labels, color=color)\n",
        "plt.ylabel('Distribution of Males and Females Hipertension', fontsize = 18)\n",
        "plt.show()"
      ],
      "execution_count": null,
      "outputs": [
        {
          "output_type": "stream",
          "text": [
            "No handles with labels found to put in legend.\n"
          ],
          "name": "stderr"
        },
        {
          "output_type": "display_data",
          "data": {
            "image/png": "[encoded data removed]",
            "text/plain": [
              "<Figure size 720x720 with 1 Axes>"
            ]
          },
          "metadata": {
            "tags": []
          }
        }
      ]
    },
    {
      "cell_type": "markdown",
      "metadata": {
        "id": "IEKgQZlr-nlt",
        "colab_type": "text"
      },
      "source": [
        "## <b>What is the distribution of age of the patients in out dataset?</b>\n",
        "To show the distribution, we create a column 'Age_Standarized' which shows the Standarized age of the patients."
      ]
    },
    {
      "cell_type": "code",
      "metadata": {
        "id": "1YeoxKNT8OcV",
        "colab_type": "code",
        "colab": {
          "base_uri": "https://localhost:8080/",
          "height": 322
        },
        "outputId": "2087e53d-af9b-40e3-cd8d-c9b838acbb9b"
      },
      "source": [
        "appointment_dataset['Age_Standarized'] = (appointment_dataset['Age']-appointment_dataset['Age'].mean())/appointment_dataset['Age'].std()\n",
        "appointment_dataset.head()"
      ],
      "execution_count": null,
      "outputs": [
        {
          "output_type": "execute_result",
          "data": {
            "text/html": [
              "<div>\n",
              "<style scoped>\n",
              "    .dataframe tbody tr th:only-of-type {\n",
              "        vertical-align: middle;\n",
              "    }\n",
              "\n",
              "    .dataframe tbody tr th {\n",
              "        vertical-align: top;\n",
              "    }\n",
              "\n",
              "    .dataframe thead th {\n",
              "        text-align: right;\n",
              "    }\n",
              "</style>\n",
              "<table border=\"1\" class=\"dataframe\">\n",
              "  <thead>\n",
              "    <tr style=\"text-align: right;\">\n",
              "      <th></th>\n",
              "      <th>Gender</th>\n",
              "      <th>ScheduledDay</th>\n",
              "      <th>AppointmentDay</th>\n",
              "      <th>Age</th>\n",
              "      <th>Neighbourhood</th>\n",
              "      <th>Scholarship</th>\n",
              "      <th>Hipertension</th>\n",
              "      <th>Diabetes</th>\n",
              "      <th>Alcoholism</th>\n",
              "      <th>Handcap</th>\n",
              "      <th>SMS_received</th>\n",
              "      <th>No-show</th>\n",
              "      <th>Days_Gap</th>\n",
              "      <th>Age_Standarized</th>\n",
              "    </tr>\n",
              "  </thead>\n",
              "  <tbody>\n",
              "    <tr>\n",
              "      <th>0</th>\n",
              "      <td>F</td>\n",
              "      <td>2016-04-29 18:38:08+00:00</td>\n",
              "      <td>2016-04-29 00:00:00+00:00</td>\n",
              "      <td>62</td>\n",
              "      <td>JARDIM DA PENHA</td>\n",
              "      <td>0</td>\n",
              "      <td>1</td>\n",
              "      <td>0</td>\n",
              "      <td>0</td>\n",
              "      <td>0</td>\n",
              "      <td>0</td>\n",
              "      <td>No</td>\n",
              "      <td>0</td>\n",
              "      <td>1.077928</td>\n",
              "    </tr>\n",
              "    <tr>\n",
              "      <th>1</th>\n",
              "      <td>M</td>\n",
              "      <td>2016-04-29 16:08:27+00:00</td>\n",
              "      <td>2016-04-29 00:00:00+00:00</td>\n",
              "      <td>56</td>\n",
              "      <td>JARDIM DA PENHA</td>\n",
              "      <td>0</td>\n",
              "      <td>0</td>\n",
              "      <td>0</td>\n",
              "      <td>0</td>\n",
              "      <td>0</td>\n",
              "      <td>0</td>\n",
              "      <td>No</td>\n",
              "      <td>0</td>\n",
              "      <td>0.818302</td>\n",
              "    </tr>\n",
              "    <tr>\n",
              "      <th>2</th>\n",
              "      <td>F</td>\n",
              "      <td>2016-04-29 16:19:04+00:00</td>\n",
              "      <td>2016-04-29 00:00:00+00:00</td>\n",
              "      <td>62</td>\n",
              "      <td>MATA DA PRAIA</td>\n",
              "      <td>0</td>\n",
              "      <td>0</td>\n",
              "      <td>0</td>\n",
              "      <td>0</td>\n",
              "      <td>0</td>\n",
              "      <td>0</td>\n",
              "      <td>No</td>\n",
              "      <td>0</td>\n",
              "      <td>1.077928</td>\n",
              "    </tr>\n",
              "    <tr>\n",
              "      <th>3</th>\n",
              "      <td>F</td>\n",
              "      <td>2016-04-29 17:29:31+00:00</td>\n",
              "      <td>2016-04-29 00:00:00+00:00</td>\n",
              "      <td>8</td>\n",
              "      <td>PONTAL DE CAMBURI</td>\n",
              "      <td>0</td>\n",
              "      <td>0</td>\n",
              "      <td>0</td>\n",
              "      <td>0</td>\n",
              "      <td>0</td>\n",
              "      <td>0</td>\n",
              "      <td>No</td>\n",
              "      <td>0</td>\n",
              "      <td>-1.258703</td>\n",
              "    </tr>\n",
              "    <tr>\n",
              "      <th>4</th>\n",
              "      <td>F</td>\n",
              "      <td>2016-04-29 16:07:23+00:00</td>\n",
              "      <td>2016-04-29 00:00:00+00:00</td>\n",
              "      <td>56</td>\n",
              "      <td>JARDIM DA PENHA</td>\n",
              "      <td>0</td>\n",
              "      <td>1</td>\n",
              "      <td>1</td>\n",
              "      <td>0</td>\n",
              "      <td>0</td>\n",
              "      <td>0</td>\n",
              "      <td>No</td>\n",
              "      <td>0</td>\n",
              "      <td>0.818302</td>\n",
              "    </tr>\n",
              "  </tbody>\n",
              "</table>\n",
              "</div>"
            ],
            "text/plain": [
              "  Gender              ScheduledDay  ... Days_Gap  Age_Standarized\n",
              "0      F 2016-04-29 18:38:08+00:00  ...        0         1.077928\n",
              "1      M 2016-04-29 16:08:27+00:00  ...        0         0.818302\n",
              "2      F 2016-04-29 16:19:04+00:00  ...        0         1.077928\n",
              "3      F 2016-04-29 17:29:31+00:00  ...        0        -1.258703\n",
              "4      F 2016-04-29 16:07:23+00:00  ...        0         0.818302\n",
              "\n",
              "[5 rows x 14 columns]"
            ]
          },
          "metadata": {
            "tags": []
          },
          "execution_count": 57
        }
      ]
    },
    {
      "cell_type": "code",
      "metadata": {
        "id": "bPnxsXJq94JJ",
        "colab_type": "code",
        "colab": {
          "base_uri": "https://localhost:8080/",
          "height": 279
        },
        "outputId": "f5fc94e2-17f0-4e40-d698-ede6416640f5"
      },
      "source": [
        "# Distribution of ages\n",
        "appointment_dataset['Age_Standarized'].hist(color='#ff944d')\n",
        "plt.xlabel('Standarized Age')\n",
        "plt.ylabel('Count')\n",
        "plt.show()"
      ],
      "execution_count": null,
      "outputs": [
        {
          "output_type": "display_data",
          "data": {
            "image/png": "[encoded data removed]",
            "text/plain": [
              "<Figure size 432x288 with 1 Axes>"
            ]
          },
          "metadata": {
            "tags": []
          }
        }
      ]
    },
    {
      "cell_type": "markdown",
      "metadata": {
        "id": "H95wl2C1_w23",
        "colab_type": "text"
      },
      "source": [
        "# <b>How many patients miss their scheduled appointments?</b>"
      ]
    },
    {
      "cell_type": "code",
      "metadata": {
        "id": "MAPbXHz598Di",
        "colab_type": "code",
        "colab": {
          "base_uri": "https://localhost:8080/",
          "height": 126
        },
        "outputId": "7c9dd59c-b590-445d-e0b6-646fb9480025"
      },
      "source": [
        "appointment_miss = appointment_dataset.groupby('Gender')['No-show'].value_counts()\n",
        "appointment_miss"
      ],
      "execution_count": null,
      "outputs": [
        {
          "output_type": "execute_result",
          "data": {
            "text/plain": [
              "Gender  No-show\n",
              "F       No         57246\n",
              "        Yes        14594\n",
              "M       No         30962\n",
              "        Yes         7725\n",
              "Name: No-show, dtype: int64"
            ]
          },
          "metadata": {
            "tags": []
          },
          "execution_count": 68
        }
      ]
    },
    {
      "cell_type": "code",
      "metadata": {
        "id": "BjhXNNmxAC9d",
        "colab_type": "code",
        "colab": {
          "base_uri": "https://localhost:8080/",
          "height": 35
        },
        "outputId": "d5ae786b-38f8-44ac-b60e-dc944a25ec01"
      },
      "source": [
        "female_attend = appointment_miss[0]/gender_distribution[0]\n",
        "female_miss = appointment_miss[1]/gender_distribution[0]\n",
        "male_attend = appointment_miss[2]/gender_distribution[1]\n",
        "male_miss = appointment_miss[3]/gender_distribution[1]\n",
        "print(\"{} % of Females miss their appointments and {} % of males miss their appointments\".format(female_miss*100, male_miss*100))"
      ],
      "execution_count": null,
      "outputs": [
        {
          "output_type": "stream",
          "text": [
            "20.31458797327394 % of Females miss their appointments and 19.967947889471915 % of males miss their appointments\n"
          ],
          "name": "stdout"
        }
      ]
    },
    {
      "cell_type": "code",
      "metadata": {
        "id": "K_yZOe-4Bq7H",
        "colab_type": "code",
        "colab": {
          "base_uri": "https://localhost:8080/",
          "height": 595
        },
        "outputId": "4617a641-111a-495d-d68a-1e7d33d165f2"
      },
      "source": [
        "sns.set_style('darkgrid')\n",
        "plt.figure(figsize = (10,10))\n",
        "location = [1,2,3,4]\n",
        "height = [appointment_miss[0],appointment_miss[1], appointment_miss[2], appointment_miss[3]]\n",
        "labels = ['Females_attend', 'Females_miss','Males_attend', 'Males_miss']\n",
        "color = ['#ff1a1a','#66ff33','#ff1a1a','#66ff33']\n",
        "plt.bar(location, height, tick_label = labels, color=color)\n",
        "plt.ylabel('Appointment Miss/Attend', fontsize = 18)\n",
        "plt.show()"
      ],
      "execution_count": null,
      "outputs": [
        {
          "output_type": "display_data",
          "data": {
            "image/png": "[encoded data removed]",
            "text/plain": [
              "<Figure size 720x720 with 1 Axes>"
            ]
          },
          "metadata": {
            "tags": []
          }
        }
      ]
    },
    {
      "cell_type": "markdown",
      "metadata": {
        "id": "eOCSjNTUIWac",
        "colab_type": "text"
      },
      "source": [
        "## <b>Is the gap between the Scheduled Day and Appointment Day (i.e delay) has any significant impact upon the attending/missing appointments?</b>"
      ]
    },
    {
      "cell_type": "code",
      "metadata": {
        "id": "PY7PtmYADzD5",
        "colab_type": "code",
        "colab": {
          "base_uri": "https://localhost:8080/",
          "height": 614
        },
        "outputId": "34c25505-a4b1-4409-a305-259324d05626"
      },
      "source": [
        "sns.set_style('darkgrid')\n",
        "plt.figure(figsize = (10,10))\n",
        "sns.violinplot(y='Days_Gap', x='No-show', hue='Gender', data=appointment_dataset)\n",
        "plt.xticks(rotation = 45)\n",
        "plt.ylabel('Days_Gap')\n",
        "plt.show()"
      ],
      "execution_count": null,
      "outputs": [
        {
          "output_type": "display_data",
          "data": {
            "image/png": "[encoded data removed]",
            "text/plain": [
              "<Figure size 720x720 with 1 Axes>"
            ]
          },
          "metadata": {
            "tags": []
          }
        }
      ]
    },
    {
      "cell_type": "markdown",
      "metadata": {
        "id": "b2fnckaBMEIl",
        "colab_type": "text"
      },
      "source": [
        "From the plot, when the delay is between 25-50 days, there is significantly large number of patients not showing up. When the number of Days_Gap is in the range 50-75, there is small difference in the number of patients(both male and female) not showing up, as compared to showing up. Generally, when the delay is 0 days, maximum patients show up."
      ]
    },
    {
      "cell_type": "markdown",
      "metadata": {
        "id": "lyktKaAqNuND",
        "colab_type": "text"
      },
      "source": [
        "## <b>What is the impact of receiving of SMS on attending/missing appointments?</b>"
      ]
    },
    {
      "cell_type": "code",
      "metadata": {
        "id": "yl7i7OPCH79X",
        "colab_type": "code",
        "colab": {
          "base_uri": "https://localhost:8080/",
          "height": 126
        },
        "outputId": "cd96eadb-e78f-4d69-c931-8a4f126a5082"
      },
      "source": [
        "sms_attend = appointment_dataset.groupby('SMS_received')['No-show'].value_counts()\n",
        "sms_attend"
      ],
      "execution_count": null,
      "outputs": [
        {
          "output_type": "execute_result",
          "data": {
            "text/plain": [
              "SMS_received  No-show\n",
              "0             No         62510\n",
              "              Yes        12535\n",
              "1             No         25698\n",
              "              Yes         9784\n",
              "Name: No-show, dtype: int64"
            ]
          },
          "metadata": {
            "tags": []
          },
          "execution_count": 98
        }
      ]
    },
    {
      "cell_type": "code",
      "metadata": {
        "id": "2XH-7aQqOIBt",
        "colab_type": "code",
        "colab": {
          "base_uri": "https://localhost:8080/",
          "height": 90
        },
        "outputId": "eb7e34b5-0e0b-4339-aa00-b0b199479f0a"
      },
      "source": [
        "print(\"{} % of patients showed up even after not receiving SMS\".format((sms_attend[0][0]/appointment_dataset.shape[0])*100))\n",
        "print(\"{} % of patients doesnot showed up after not receiving SMS\".format((sms_attend[0][1]/appointment_dataset.shape[0])*100))\n",
        "print(\"{} % of patients showed up after receiving SMS\".format((sms_attend[2]/appointment_dataset.shape[0])*100))\n",
        "print(\"{} % of patients doesnot showed up even after receiving SMS\".format((sms_attend[3]/appointment_dataset.shape[0])*100))"
      ],
      "execution_count": null,
      "outputs": [
        {
          "output_type": "stream",
          "text": [
            "56.5563165561356 % of patients showed up even after not receiving SMS\n",
            "11.341120269255477 % of patients doesnot showed up after not receiving SMS\n",
            "23.250427497353588 % of patients showed up after receiving SMS\n",
            "8.852135677255331 % of patients doesnot showed up even after receiving SMS\n"
          ],
          "name": "stdout"
        }
      ]
    },
    {
      "cell_type": "code",
      "metadata": {
        "id": "LW-KWKlWQdXp",
        "colab_type": "code",
        "colab": {
          "base_uri": "https://localhost:8080/",
          "height": 138
        },
        "outputId": "3c7e9dda-5295-4d4d-ab78-964306763dec"
      },
      "source": [
        "# Attending/Missing the appointment based on 'SMS received' in Tabular Form\n",
        "cross_tab = pd.crosstab(index=appointment_dataset['SMS_received'], columns=appointment_dataset['No-show'])\n",
        "cross"
      ],
      "execution_count": null,
      "outputs": [
        {
          "output_type": "execute_result",
          "data": {
            "text/html": [
              "<div>\n",
              "<style scoped>\n",
              "    .dataframe tbody tr th:only-of-type {\n",
              "        vertical-align: middle;\n",
              "    }\n",
              "\n",
              "    .dataframe tbody tr th {\n",
              "        vertical-align: top;\n",
              "    }\n",
              "\n",
              "    .dataframe thead th {\n",
              "        text-align: right;\n",
              "    }\n",
              "</style>\n",
              "<table border=\"1\" class=\"dataframe\">\n",
              "  <thead>\n",
              "    <tr style=\"text-align: right;\">\n",
              "      <th>No-show</th>\n",
              "      <th>No</th>\n",
              "      <th>Yes</th>\n",
              "    </tr>\n",
              "    <tr>\n",
              "      <th>SMS_received</th>\n",
              "      <th></th>\n",
              "      <th></th>\n",
              "    </tr>\n",
              "  </thead>\n",
              "  <tbody>\n",
              "    <tr>\n",
              "      <th>0</th>\n",
              "      <td>62510</td>\n",
              "      <td>12535</td>\n",
              "    </tr>\n",
              "    <tr>\n",
              "      <th>1</th>\n",
              "      <td>25698</td>\n",
              "      <td>9784</td>\n",
              "    </tr>\n",
              "  </tbody>\n",
              "</table>\n",
              "</div>"
            ],
            "text/plain": [
              "No-show          No    Yes\n",
              "SMS_received              \n",
              "0             62510  12535\n",
              "1             25698   9784"
            ]
          },
          "metadata": {
            "tags": []
          },
          "execution_count": 116
        }
      ]
    },
    {
      "cell_type": "code",
      "metadata": {
        "id": "PbjRkUpIR_B6",
        "colab_type": "code",
        "colab": {
          "base_uri": "https://localhost:8080/",
          "height": 497
        },
        "outputId": "c418012b-c909-4e7f-cff3-31351e0cdf0a"
      },
      "source": [
        "# Heatmap plot of the Table\n",
        "plt.figure(figsize=(8,8))\n",
        "sns.heatmap(cross,linewidths=0.5, cmap='Blues', annot=True)\n",
        "plt.show()"
      ],
      "execution_count": null,
      "outputs": [
        {
          "output_type": "display_data",
          "data": {
            "image/png": "[encoded data removed]",
            "text/plain": [
              "<Figure size 576x576 with 2 Axes>"
            ]
          },
          "metadata": {
            "tags": []
          }
        }
      ]
    },
    {
      "cell_type": "markdown",
      "metadata": {
        "id": "LUVnz3wQUu2X",
        "colab_type": "text"
      },
      "source": [
        "## <b>What proportion of Male and Female are enrolled in the Scholarship Program?"
      ]
    },
    {
      "cell_type": "code",
      "metadata": {
        "id": "grhMdKHuSmqB",
        "colab_type": "code",
        "colab": {
          "base_uri": "https://localhost:8080/",
          "height": 126
        },
        "outputId": "e559e691-8c52-4bfe-c71b-536f990112bc"
      },
      "source": [
        "scholarship_gender = appointment_dataset.groupby('Gender')['Scholarship'].value_counts()\n",
        "scholarship_gender"
      ],
      "execution_count": null,
      "outputs": [
        {
          "output_type": "execute_result",
          "data": {
            "text/plain": [
              "Gender  Scholarship\n",
              "F       0              62987\n",
              "        1               8853\n",
              "M       0              36679\n",
              "        1               2008\n",
              "Name: Scholarship, dtype: int64"
            ]
          },
          "metadata": {
            "tags": []
          },
          "execution_count": 127
        }
      ]
    },
    {
      "cell_type": "code",
      "metadata": {
        "id": "Xplh7XYkVCD-",
        "colab_type": "code",
        "colab": {
          "base_uri": "https://localhost:8080/",
          "height": 72
        },
        "outputId": "20f18ad2-c9ab-4eb3-b503-c232f1285589"
      },
      "source": [
        "print(\"{} % of females are enrolled in the Scholarship Programme\".format((scholarship_gender[1]/gender_distribution[0])*100))\n",
        "print(\"{} % of males are enrolled in the Scholarship Programme\".format((scholarship_gender[3]/gender_distribution[0])*100))\n",
        "print(\"{} % of patients got enrolled in Scholarship Programme\".format(((scholarship_gender[1]+scholarship_gender[3])/appointment_dataset.shape[0])*100))"
      ],
      "execution_count": null,
      "outputs": [
        {
          "output_type": "stream",
          "text": [
            "12.323218262806236 % of females are enrolled in the Scholarship Programme\n",
            "2.7951002227171493 % of males are enrolled in the Scholarship Programme\n",
            "9.826558216544374 % of patients got enrolled in Scholarship Programme\n"
          ],
          "name": "stdout"
        }
      ]
    },
    {
      "cell_type": "code",
      "metadata": {
        "id": "WhrHXdp4Wxx9",
        "colab_type": "code",
        "colab": {
          "base_uri": "https://localhost:8080/",
          "height": 592
        },
        "outputId": "daeb8992-429c-49e3-f3ab-19c1361bff21"
      },
      "source": [
        "sns.set_style('darkgrid')\n",
        "plt.figure(figsize = (10,10))\n",
        "location = [1,2,3,4]\n",
        "height = [scholarship_gender[0],scholarship_gender[2],scholarship_gender[1],scholarship_gender[3]]\n",
        "labels = ['Fem_No', 'Males_No','Fem_Yes', 'Males_Yes']\n",
        "color = ['#ff1a1a','#0066cc','#ffbb33','#b3ffb3']\n",
        "plt.bar(location, height, tick_label = labels, color=color, width=0.5)\n",
        "plt.ylabel('Scholarship Enrolled/Scholarship Not Enrolled', fontsize = 18)\n",
        "plt.show()"
      ],
      "execution_count": null,
      "outputs": [
        {
          "output_type": "display_data",
          "data": {
            "image/png": "[encoded data removed]",
            "text/plain": [
              "<Figure size 720x720 with 1 Axes>"
            ]
          },
          "metadata": {
            "tags": []
          }
        }
      ]
    },
    {
      "cell_type": "markdown",
      "metadata": {
        "id": "Nm3zX4TKYDrH",
        "colab_type": "text"
      },
      "source": [
        "From the plot, it is evident that very small number of males are enrolled in the Programme."
      ]
    },
    {
      "cell_type": "markdown",
      "metadata": {
        "id": "v3abbVCbVmp3",
        "colab_type": "text"
      },
      "source": [
        "## <b>What proportion of Scholarship enrolled people got SMS of appointment?</b>"
      ]
    },
    {
      "cell_type": "code",
      "metadata": {
        "id": "8LTeOOuoVZFT",
        "colab_type": "code",
        "colab": {
          "base_uri": "https://localhost:8080/",
          "height": 126
        },
        "outputId": "2bf3bb3f-c3b5-4e72-8c26-d1bcaf88eac2"
      },
      "source": [
        "scholarship_SMS = appointment_dataset.groupby('Scholarship')['SMS_received'].value_counts()\n",
        "scholarship_SMS"
      ],
      "execution_count": null,
      "outputs": [
        {
          "output_type": "execute_result",
          "data": {
            "text/plain": [
              "Scholarship  SMS_received\n",
              "0            0               67689\n",
              "             1               31977\n",
              "1            0                7356\n",
              "             1                3505\n",
              "Name: SMS_received, dtype: int64"
            ]
          },
          "metadata": {
            "tags": []
          },
          "execution_count": 134
        }
      ]
    },
    {
      "cell_type": "code",
      "metadata": {
        "id": "es35NNChYuA_",
        "colab_type": "code",
        "colab": {
          "base_uri": "https://localhost:8080/",
          "height": 54
        },
        "outputId": "1ef3409d-479f-4ad9-bfee-a7dd678f462c"
      },
      "source": [
        "sch_enrld = scholarship_SMS[2]+scholarship_SMS[3]\n",
        "sch_unenrld = scholarship_SMS[0][0]+scholarship_SMS[0][1]\n",
        "print(\"{} % of Scholarship enrolled people got SMS\".format((scholarship_SMS[3]/sch_enrld)*100))\n",
        "print(\"{} % of Sholarship unenrolled people doesnot get SMS\".format((scholarship_SMS[0][0]/sch_unenrld)*100))"
      ],
      "execution_count": null,
      "outputs": [
        {
          "output_type": "stream",
          "text": [
            "32.27142988675076 % of Scholarship enrolled people got SMS\n",
            "67.91583890193246 % of Sholarship unenrolled people doesnot get SMS\n"
          ],
          "name": "stdout"
        }
      ]
    },
    {
      "cell_type": "code",
      "metadata": {
        "id": "AYAXNVo6ZCNn",
        "colab_type": "code",
        "colab": {
          "base_uri": "https://localhost:8080/",
          "height": 614
        },
        "outputId": "db07e812-2d05-4de0-8887-e6cffbfab56a"
      },
      "source": [
        "sns.set_style('darkgrid')\n",
        "plt.figure(figsize = (10,10))\n",
        "sns.countplot(x='SMS_received', hue='Scholarship', data=appointment_dataset)\n",
        "plt.xlabel('SMS Received', fontsize = 18)\n",
        "plt.ylabel('Patient Count', fontsize=18)\n",
        "plt.show()"
      ],
      "execution_count": null,
      "outputs": [
        {
          "output_type": "display_data",
          "data": {
            "image/png": "[encoded data removed]",
            "text/plain": [
              "<Figure size 720x720 with 1 Axes>"
            ]
          },
          "metadata": {
            "tags": []
          }
        }
      ]
    },
    {
      "cell_type": "markdown",
      "metadata": {
        "id": "Orfp3mSFdPjE",
        "colab_type": "text"
      },
      "source": [
        "From the plot, it is evident that out of all patients who are nerolled in scholarship program, number of patients got SMS is less than number of patients who doesnot get SMS. Also, out of all scholarship unenrolled people, number of people "
      ]
    },
    {
      "cell_type": "markdown",
      "metadata": {
        "id": "RmLSz3_-obeF",
        "colab_type": "text"
      },
      "source": [
        "##<b>From which place does maximum number of patients belong to?"
      ]
    },
    {
      "cell_type": "code",
      "metadata": {
        "id": "YczrYljZnapB",
        "colab_type": "code",
        "colab": {
          "base_uri": "https://localhost:8080/",
          "height": 235
        },
        "outputId": "6c075f43-3fc6-42b6-ce4d-eba5c0839153"
      },
      "source": [
        "appointment_dataset['Neighbourhood'].value_counts()"
      ],
      "execution_count": 165,
      "outputs": [
        {
          "output_type": "execute_result",
          "data": {
            "text/plain": [
              "JARDIM CAMBURI                 7717\n",
              "MARIA ORTIZ                    5805\n",
              "RESISTÊNCIA                    4431\n",
              "JARDIM DA PENHA                3877\n",
              "ITARARÉ                        3514\n",
              "                               ... \n",
              "ILHA DO BOI                      35\n",
              "ILHA DO FRADE                    10\n",
              "AEROPORTO                         8\n",
              "ILHAS OCEÂNICAS DE TRINDADE       2\n",
              "PARQUE INDUSTRIAL                 1\n",
              "Name: Neighbourhood, Length: 81, dtype: int64"
            ]
          },
          "metadata": {
            "tags": []
          },
          "execution_count": 165
        }
      ]
    },
    {
      "cell_type": "markdown",
      "metadata": {
        "id": "JzG1CibJo1E2",
        "colab_type": "text"
      },
      "source": [
        "So, maximum patients are from JARDIM CAMBURI.\n",
        "Now we are going to analyze the data of patints who are from JARDIM CAMBURI, as maximum patients are from there."
      ]
    },
    {
      "cell_type": "code",
      "metadata": {
        "id": "_J8cWKKEoWKD",
        "colab_type": "code",
        "colab": {
          "base_uri": "https://localhost:8080/",
          "height": 322
        },
        "outputId": "3d84fbe1-9bfc-4bd8-a9aa-29cc31d08a85"
      },
      "source": [
        "# Make a seperate dataframe containing the records of the patients from Jardim Camburi\n",
        "\n",
        "jardim_camburi_data = appointment_dataset[appointment_dataset['Neighbourhood']=='JARDIM CAMBURI']\n",
        "jardim_camburi_data.head()"
      ],
      "execution_count": 166,
      "outputs": [
        {
          "output_type": "execute_result",
          "data": {
            "text/html": [
              "<div>\n",
              "<style scoped>\n",
              "    .dataframe tbody tr th:only-of-type {\n",
              "        vertical-align: middle;\n",
              "    }\n",
              "\n",
              "    .dataframe tbody tr th {\n",
              "        vertical-align: top;\n",
              "    }\n",
              "\n",
              "    .dataframe thead th {\n",
              "        text-align: right;\n",
              "    }\n",
              "</style>\n",
              "<table border=\"1\" class=\"dataframe\">\n",
              "  <thead>\n",
              "    <tr style=\"text-align: right;\">\n",
              "      <th></th>\n",
              "      <th>Gender</th>\n",
              "      <th>ScheduledDay</th>\n",
              "      <th>AppointmentDay</th>\n",
              "      <th>Age</th>\n",
              "      <th>Neighbourhood</th>\n",
              "      <th>Scholarship</th>\n",
              "      <th>Hipertension</th>\n",
              "      <th>Diabetes</th>\n",
              "      <th>Alcoholism</th>\n",
              "      <th>Handcap</th>\n",
              "      <th>SMS_received</th>\n",
              "      <th>No-show</th>\n",
              "      <th>Days_Gap</th>\n",
              "      <th>Age_Standarized</th>\n",
              "    </tr>\n",
              "  </thead>\n",
              "  <tbody>\n",
              "    <tr>\n",
              "      <th>72</th>\n",
              "      <td>F</td>\n",
              "      <td>2016-04-29 07:37:37+00:00</td>\n",
              "      <td>2016-04-29 00:00:00+00:00</td>\n",
              "      <td>61</td>\n",
              "      <td>JARDIM CAMBURI</td>\n",
              "      <td>0</td>\n",
              "      <td>0</td>\n",
              "      <td>0</td>\n",
              "      <td>0</td>\n",
              "      <td>0</td>\n",
              "      <td>0</td>\n",
              "      <td>No</td>\n",
              "      <td>0</td>\n",
              "      <td>1.034657</td>\n",
              "    </tr>\n",
              "    <tr>\n",
              "      <th>398</th>\n",
              "      <td>F</td>\n",
              "      <td>2016-04-28 16:52:04+00:00</td>\n",
              "      <td>2016-04-29 00:00:00+00:00</td>\n",
              "      <td>43</td>\n",
              "      <td>JARDIM CAMBURI</td>\n",
              "      <td>0</td>\n",
              "      <td>0</td>\n",
              "      <td>0</td>\n",
              "      <td>0</td>\n",
              "      <td>0</td>\n",
              "      <td>0</td>\n",
              "      <td>No</td>\n",
              "      <td>1</td>\n",
              "      <td>0.255780</td>\n",
              "    </tr>\n",
              "    <tr>\n",
              "      <th>444</th>\n",
              "      <td>M</td>\n",
              "      <td>2016-04-15 14:22:02+00:00</td>\n",
              "      <td>2016-04-29 00:00:00+00:00</td>\n",
              "      <td>13</td>\n",
              "      <td>JARDIM CAMBURI</td>\n",
              "      <td>0</td>\n",
              "      <td>0</td>\n",
              "      <td>0</td>\n",
              "      <td>0</td>\n",
              "      <td>0</td>\n",
              "      <td>1</td>\n",
              "      <td>No</td>\n",
              "      <td>14</td>\n",
              "      <td>-1.042348</td>\n",
              "    </tr>\n",
              "    <tr>\n",
              "      <th>445</th>\n",
              "      <td>F</td>\n",
              "      <td>2016-04-14 11:01:47+00:00</td>\n",
              "      <td>2016-04-29 00:00:00+00:00</td>\n",
              "      <td>65</td>\n",
              "      <td>JARDIM CAMBURI</td>\n",
              "      <td>0</td>\n",
              "      <td>1</td>\n",
              "      <td>0</td>\n",
              "      <td>0</td>\n",
              "      <td>0</td>\n",
              "      <td>1</td>\n",
              "      <td>No</td>\n",
              "      <td>15</td>\n",
              "      <td>1.207740</td>\n",
              "    </tr>\n",
              "    <tr>\n",
              "      <th>446</th>\n",
              "      <td>F</td>\n",
              "      <td>2016-04-08 14:13:23+00:00</td>\n",
              "      <td>2016-04-29 00:00:00+00:00</td>\n",
              "      <td>60</td>\n",
              "      <td>JARDIM CAMBURI</td>\n",
              "      <td>0</td>\n",
              "      <td>0</td>\n",
              "      <td>0</td>\n",
              "      <td>0</td>\n",
              "      <td>0</td>\n",
              "      <td>1</td>\n",
              "      <td>Yes</td>\n",
              "      <td>21</td>\n",
              "      <td>0.991386</td>\n",
              "    </tr>\n",
              "  </tbody>\n",
              "</table>\n",
              "</div>"
            ],
            "text/plain": [
              "    Gender              ScheduledDay  ... Days_Gap  Age_Standarized\n",
              "72       F 2016-04-29 07:37:37+00:00  ...        0         1.034657\n",
              "398      F 2016-04-28 16:52:04+00:00  ...        1         0.255780\n",
              "444      M 2016-04-15 14:22:02+00:00  ...       14        -1.042348\n",
              "445      F 2016-04-14 11:01:47+00:00  ...       15         1.207740\n",
              "446      F 2016-04-08 14:13:23+00:00  ...       21         0.991386\n",
              "\n",
              "[5 rows x 14 columns]"
            ]
          },
          "metadata": {
            "tags": []
          },
          "execution_count": 166
        }
      ]
    },
    {
      "cell_type": "code",
      "metadata": {
        "id": "broUNzszpTGw",
        "colab_type": "code",
        "colab": {
          "base_uri": "https://localhost:8080/",
          "height": 35
        },
        "outputId": "1422a955-300c-40d2-d1c5-6603b27dd0b7"
      },
      "source": [
        "print(\"The dataset contains {} rows and {} columns\".format(jardim_camburi_data.shape[0], jardim_camburi_data.shape[1]))"
      ],
      "execution_count": 167,
      "outputs": [
        {
          "output_type": "stream",
          "text": [
            "The dataset contains 7717 rows and 14 columns\n"
          ],
          "name": "stdout"
        }
      ]
    },
    {
      "cell_type": "markdown",
      "metadata": {
        "id": "HqfXllZ1q3pH",
        "colab_type": "text"
      },
      "source": [
        "##<b>What percent of patients from Jardim Camburi showed up?"
      ]
    },
    {
      "cell_type": "code",
      "metadata": {
        "id": "1xHj5QbFpt3Q",
        "colab_type": "code",
        "colab": {
          "base_uri": "https://localhost:8080/",
          "height": 54
        },
        "outputId": "a7eb8c97-69d4-4311-e949-fff0a37aaee5"
      },
      "source": [
        "attend = jardim_camburi_data['No-show'].value_counts()[0]\n",
        "miss =  jardim_camburi_data['No-show'].value_counts()[1]\n",
        "print(\"{} % of patients from Jardim Camburi showed up\".format((attend/jardim_camburi_data.shape[0])*100))\n",
        "print(\"{} % of patients from Jardim Camburi didnot show up\".format((miss/jardim_camburi_data.shape[0])*100))"
      ],
      "execution_count": 169,
      "outputs": [
        {
          "output_type": "stream",
          "text": [
            "81.01593883633537 % of patients from Jardim Camburi showed up\n",
            "18.984061163664638 % of patients from Jardim Camburi didnot show up\n"
          ],
          "name": "stdout"
        }
      ]
    },
    {
      "cell_type": "code",
      "metadata": {
        "id": "k7x5e5SRqGrw",
        "colab_type": "code",
        "colab": {
          "base_uri": "https://localhost:8080/",
          "height": 606
        },
        "outputId": "5c8b5c7c-a6aa-4b5b-c72f-9f252b9aa2fd"
      },
      "source": [
        "sns.set_style('whitegrid')\n",
        "plt.figure(figsize = (10,10))\n",
        "sns.countplot(x='No-show',hue='Gender' ,data=jardim_camburi_data, palette=['#b3ffb3','#ff751a'])\n",
        "plt.show()"
      ],
      "execution_count": 176,
      "outputs": [
        {
          "output_type": "display_data",
          "data": {
            "image/png": "[encoded data removed]",
            "text/plain": [
              "<Figure size 720x720 with 1 Axes>"
            ]
          },
          "metadata": {
            "tags": []
          }
        }
      ]
    },
    {
      "cell_type": "markdown",
      "metadata": {
        "id": "7HgECb4arT45",
        "colab_type": "text"
      },
      "source": [
        "From the plot, large percent of Females attended the appointment than males."
      ]
    },
    {
      "cell_type": "markdown",
      "metadata": {
        "id": "s-j9xtP7svF9",
        "colab_type": "text"
      },
      "source": [
        "## <b>Are more males enrolled in the Scholarship Programme from Jardim Camburi?"
      ]
    },
    {
      "cell_type": "code",
      "metadata": {
        "id": "1LyvRxD3rESq",
        "colab_type": "code",
        "colab": {
          "base_uri": "https://localhost:8080/",
          "height": 606
        },
        "outputId": "0a11876c-a3e9-44a0-b741-01e2ef1047b2"
      },
      "source": [
        "sns.set_style('whitegrid')\n",
        "plt.figure(figsize = (10,10))\n",
        "sns.countplot(x='Scholarship', data=jardim_camburi_data, hue='Gender',palette=['#001f33','#4db8ff'])\n",
        "plt.show()"
      ],
      "execution_count": 178,
      "outputs": [
        {
          "output_type": "display_data",
          "data": {
            "image/png": "[encoded data removed]",
            "text/plain": [
              "<Figure size 720x720 with 1 Axes>"
            ]
          },
          "metadata": {
            "tags": []
          }
        }
      ]
    },
    {
      "cell_type": "markdown",
      "metadata": {
        "id": "Ow1c6XtptnSe",
        "colab_type": "text"
      },
      "source": [
        "From the plot, very few patient are enrolled in the Scholarship programme, out of which, the female percentage is higher"
      ]
    },
    {
      "cell_type": "markdown",
      "metadata": {
        "id": "6c16rJnHt__T",
        "colab_type": "text"
      },
      "source": [
        "## <b>From which diaeases people of Jardim Camburi mainly suffer from?</b>"
      ]
    },
    {
      "cell_type": "markdown",
      "metadata": {
        "id": "k6kKqDciwyL5",
        "colab_type": "text"
      },
      "source": [
        "To find out the answer, we create a seperate Dataframe containing all the disease data from the patients of Jardim Camburiand we will try to plot them on a single plot."
      ]
    },
    {
      "cell_type": "code",
      "metadata": {
        "id": "AxmihEj8uba4",
        "colab_type": "code",
        "colab": {
          "base_uri": "https://localhost:8080/",
          "height": 198
        },
        "outputId": "92ffe354-6412-47d7-db1e-a28c73ea3a76"
      },
      "source": [
        "diseases_J = pd.DataFrame(data = jardim_camburi_data, columns = ['Hipertension',\t'Diabetes',\t'Alcoholism',\t'Handcap'])\n",
        "diseases_J.head()"
      ],
      "execution_count": 190,
      "outputs": [
        {
          "output_type": "execute_result",
          "data": {
            "text/html": [
              "<div>\n",
              "<style scoped>\n",
              "    .dataframe tbody tr th:only-of-type {\n",
              "        vertical-align: middle;\n",
              "    }\n",
              "\n",
              "    .dataframe tbody tr th {\n",
              "        vertical-align: top;\n",
              "    }\n",
              "\n",
              "    .dataframe thead th {\n",
              "        text-align: right;\n",
              "    }\n",
              "</style>\n",
              "<table border=\"1\" class=\"dataframe\">\n",
              "  <thead>\n",
              "    <tr style=\"text-align: right;\">\n",
              "      <th></th>\n",
              "      <th>Hipertension</th>\n",
              "      <th>Diabetes</th>\n",
              "      <th>Alcoholism</th>\n",
              "      <th>Handcap</th>\n",
              "    </tr>\n",
              "  </thead>\n",
              "  <tbody>\n",
              "    <tr>\n",
              "      <th>72</th>\n",
              "      <td>0</td>\n",
              "      <td>0</td>\n",
              "      <td>0</td>\n",
              "      <td>0</td>\n",
              "    </tr>\n",
              "    <tr>\n",
              "      <th>398</th>\n",
              "      <td>0</td>\n",
              "      <td>0</td>\n",
              "      <td>0</td>\n",
              "      <td>0</td>\n",
              "    </tr>\n",
              "    <tr>\n",
              "      <th>444</th>\n",
              "      <td>0</td>\n",
              "      <td>0</td>\n",
              "      <td>0</td>\n",
              "      <td>0</td>\n",
              "    </tr>\n",
              "    <tr>\n",
              "      <th>445</th>\n",
              "      <td>1</td>\n",
              "      <td>0</td>\n",
              "      <td>0</td>\n",
              "      <td>0</td>\n",
              "    </tr>\n",
              "    <tr>\n",
              "      <th>446</th>\n",
              "      <td>0</td>\n",
              "      <td>0</td>\n",
              "      <td>0</td>\n",
              "      <td>0</td>\n",
              "    </tr>\n",
              "  </tbody>\n",
              "</table>\n",
              "</div>"
            ],
            "text/plain": [
              "     Hipertension  Diabetes  Alcoholism  Handcap\n",
              "72              0         0           0        0\n",
              "398             0         0           0        0\n",
              "444             0         0           0        0\n",
              "445             1         0           0        0\n",
              "446             0         0           0        0"
            ]
          },
          "metadata": {
            "tags": []
          },
          "execution_count": 190
        }
      ]
    },
    {
      "cell_type": "code",
      "metadata": {
        "id": "MvXcDQqjwmyP",
        "colab_type": "code",
        "colab": {
          "base_uri": "https://localhost:8080/",
          "height": 407
        },
        "outputId": "2671e620-e60b-4e79-badd-2027acfcad89"
      },
      "source": [
        "dis_melt = pd.melt(diseases_J)\n",
        "dis_melt"
      ],
      "execution_count": 191,
      "outputs": [
        {
          "output_type": "execute_result",
          "data": {
            "text/html": [
              "<div>\n",
              "<style scoped>\n",
              "    .dataframe tbody tr th:only-of-type {\n",
              "        vertical-align: middle;\n",
              "    }\n",
              "\n",
              "    .dataframe tbody tr th {\n",
              "        vertical-align: top;\n",
              "    }\n",
              "\n",
              "    .dataframe thead th {\n",
              "        text-align: right;\n",
              "    }\n",
              "</style>\n",
              "<table border=\"1\" class=\"dataframe\">\n",
              "  <thead>\n",
              "    <tr style=\"text-align: right;\">\n",
              "      <th></th>\n",
              "      <th>variable</th>\n",
              "      <th>value</th>\n",
              "    </tr>\n",
              "  </thead>\n",
              "  <tbody>\n",
              "    <tr>\n",
              "      <th>0</th>\n",
              "      <td>Hipertension</td>\n",
              "      <td>0</td>\n",
              "    </tr>\n",
              "    <tr>\n",
              "      <th>1</th>\n",
              "      <td>Hipertension</td>\n",
              "      <td>0</td>\n",
              "    </tr>\n",
              "    <tr>\n",
              "      <th>2</th>\n",
              "      <td>Hipertension</td>\n",
              "      <td>0</td>\n",
              "    </tr>\n",
              "    <tr>\n",
              "      <th>3</th>\n",
              "      <td>Hipertension</td>\n",
              "      <td>1</td>\n",
              "    </tr>\n",
              "    <tr>\n",
              "      <th>4</th>\n",
              "      <td>Hipertension</td>\n",
              "      <td>0</td>\n",
              "    </tr>\n",
              "    <tr>\n",
              "      <th>...</th>\n",
              "      <td>...</td>\n",
              "      <td>...</td>\n",
              "    </tr>\n",
              "    <tr>\n",
              "      <th>30863</th>\n",
              "      <td>Handcap</td>\n",
              "      <td>0</td>\n",
              "    </tr>\n",
              "    <tr>\n",
              "      <th>30864</th>\n",
              "      <td>Handcap</td>\n",
              "      <td>0</td>\n",
              "    </tr>\n",
              "    <tr>\n",
              "      <th>30865</th>\n",
              "      <td>Handcap</td>\n",
              "      <td>0</td>\n",
              "    </tr>\n",
              "    <tr>\n",
              "      <th>30866</th>\n",
              "      <td>Handcap</td>\n",
              "      <td>0</td>\n",
              "    </tr>\n",
              "    <tr>\n",
              "      <th>30867</th>\n",
              "      <td>Handcap</td>\n",
              "      <td>0</td>\n",
              "    </tr>\n",
              "  </tbody>\n",
              "</table>\n",
              "<p>30868 rows × 2 columns</p>\n",
              "</div>"
            ],
            "text/plain": [
              "           variable  value\n",
              "0      Hipertension      0\n",
              "1      Hipertension      0\n",
              "2      Hipertension      0\n",
              "3      Hipertension      1\n",
              "4      Hipertension      0\n",
              "...             ...    ...\n",
              "30863       Handcap      0\n",
              "30864       Handcap      0\n",
              "30865       Handcap      0\n",
              "30866       Handcap      0\n",
              "30867       Handcap      0\n",
              "\n",
              "[30868 rows x 2 columns]"
            ]
          },
          "metadata": {
            "tags": []
          },
          "execution_count": 191
        }
      ]
    },
    {
      "cell_type": "code",
      "metadata": {
        "id": "3_8c-WuMxxf5",
        "colab_type": "code",
        "colab": {
          "base_uri": "https://localhost:8080/",
          "height": 606
        },
        "outputId": "f88ada91-79b5-45b4-ea32-a0320e03e129"
      },
      "source": [
        "sns.set_style('darkgrid')\n",
        "plt.figure(figsize = (10,10))\n",
        "sns.countplot(data=dis_melt, x='variable', hue='value',palette=['#ffff4d','#0059b3'],)\n",
        "plt.xlabel('Diseases')\n",
        "plt.ylabel('Count')\n",
        "plt.show();"
      ],
      "execution_count": 197,
      "outputs": [
        {
          "output_type": "display_data",
          "data": {
            "image/png": "[encoded data removed]",
            "text/plain": [
              "<Figure size 720x720 with 1 Axes>"
            ]
          },
          "metadata": {
            "tags": []
          }
        }
      ]
    },
    {
      "cell_type": "markdown",
      "metadata": {
        "id": "usevssJvyWuo",
        "colab_type": "text"
      },
      "source": [
        "From the plot, it is clear that the people of Jardim Camburi mainly suffer from two problems, Hipertension and Diabetes."
      ]
    },
    {
      "cell_type": "markdown",
      "metadata": {
        "id": "l6iOIgfjy9mO",
        "colab_type": "text"
      },
      "source": [
        "## <b>How each features are correlated in the main dataset?</b>"
      ]
    },
    {
      "cell_type": "code",
      "metadata": {
        "id": "Q0DWtn6N0xxP",
        "colab_type": "code",
        "colab": {
          "base_uri": "https://localhost:8080/",
          "height": 254
        },
        "outputId": "5db877ed-dea1-4971-d250-550d4b049c68"
      },
      "source": [
        "appointment_correlation = appointment_dataset.corr()\n",
        "print(\"The Correlation matrix of Appointment Dataset is: \\n{}\".format(appointment_correlation))"
      ],
      "execution_count": 216,
      "outputs": [
        {
          "output_type": "stream",
          "text": [
            "The Correlation matrix of Appointment Dataset is: \n",
            "                      Age  Scholarship  ...  Days_Gap  Age_Standarized\n",
            "Age              1.000000    -0.092457  ...  0.034820         1.000000\n",
            "Scholarship     -0.092457     1.000000  ... -0.030421        -0.092457\n",
            "Hipertension     0.504586    -0.019729  ... -0.017215         0.504586\n",
            "Diabetes         0.292391    -0.024894  ... -0.027188         0.292391\n",
            "Alcoholism       0.095811     0.035022  ... -0.038519         0.095811\n",
            "Handcap          0.078033    -0.008586  ... -0.019843         0.078033\n",
            "SMS_received     0.012643     0.001194  ...  0.398145         0.012643\n",
            "Days_Gap         0.034820    -0.030421  ...  1.000000         0.034820\n",
            "Age_Standarized  1.000000    -0.092457  ...  0.034820         1.000000\n",
            "\n",
            "[9 rows x 9 columns]\n"
          ],
          "name": "stdout"
        }
      ]
    },
    {
      "cell_type": "code",
      "metadata": {
        "id": "FbcPZ7tax0te",
        "colab_type": "code",
        "colab": {
          "base_uri": "https://localhost:8080/",
          "height": 561
        },
        "outputId": "eef23615-5d89-40ac-f057-99e1c2321b6c"
      },
      "source": [
        "# Heatmap plot of Correlation Matrix\n",
        "plt.figure(figsize=(8,8))\n",
        "sns.heatmap(appointment_dataset.corr(), cmap='Purples',linecolor='#440066',linewidths=0.5, annot=True)\n",
        "plt.show()"
      ],
      "execution_count": 227,
      "outputs": [
        {
          "output_type": "display_data",
          "data": {
            "image/png": "[encoded data removed]",
            "text/plain": [
              "<Figure size 576x576 with 2 Axes>"
            ]
          },
          "metadata": {
            "tags": []
          }
        }
      ]
    },
    {
      "cell_type": "markdown",
      "metadata": {
        "id": "_ikvz8TS1nKU",
        "colab_type": "text"
      },
      "source": [
        "From the Heatmap plot, there is a high correlation between Hipertension and Age. Also, Hipertension and Diabetes aslo show a very good correlation."
      ]
    },
    {
      "cell_type": "markdown",
      "metadata": {
        "id": "nhPdoI8j2JXT",
        "colab_type": "text"
      },
      "source": [
        "## <b>How each features are correlated in the Jardim Camburi dataset?"
      ]
    },
    {
      "cell_type": "code",
      "metadata": {
        "id": "rh2PkwGd2WSW",
        "colab_type": "code",
        "colab": {
          "base_uri": "https://localhost:8080/",
          "height": 254
        },
        "outputId": "797bdc21-c8fe-4784-ed29-eb15169a8637"
      },
      "source": [
        "jardim_correlation = jardim_camburi_data.corr()\n",
        "print(\"The Correlation matrix of Appointment Dataset is: \\n{}\".format(jardim_correlation))"
      ],
      "execution_count": 218,
      "outputs": [
        {
          "output_type": "stream",
          "text": [
            "The Correlation matrix of Appointment Dataset is: \n",
            "                      Age  Scholarship  ...  Days_Gap  Age_Standarized\n",
            "Age              1.000000    -0.068421  ...  0.046273         1.000000\n",
            "Scholarship     -0.068421     1.000000  ... -0.009910        -0.068421\n",
            "Hipertension     0.224243    -0.001791  ...  0.023756         0.224243\n",
            "Diabetes         0.148019    -0.006025  ...  0.027548         0.148019\n",
            "Alcoholism       0.010499    -0.005225  ... -0.004159         0.010499\n",
            "Handcap          0.008791    -0.004046  ... -0.004308         0.008791\n",
            "SMS_received     0.034869     0.011501  ...  0.448821         0.034869\n",
            "Days_Gap         0.046273    -0.009910  ...  1.000000         0.046273\n",
            "Age_Standarized  1.000000    -0.068421  ...  0.046273         1.000000\n",
            "\n",
            "[9 rows x 9 columns]\n"
          ],
          "name": "stdout"
        }
      ]
    },
    {
      "cell_type": "code",
      "metadata": {
        "id": "ptoGBbWFzQb6",
        "colab_type": "code",
        "colab": {
          "base_uri": "https://localhost:8080/",
          "height": 561
        },
        "outputId": "517ae26b-dad5-43ba-bbf0-1148a4650613"
      },
      "source": [
        "#Heatmap plot of Correlation Matrix\n",
        "plt.figure(figsize=(8,8))\n",
        "sns.heatmap(jardim_camburi_data.corr(), cmap='Blues',linecolor='#001a33',linewidths=0.5, annot=True)\n",
        "plt.show()"
      ],
      "execution_count": 226,
      "outputs": [
        {
          "output_type": "display_data",
          "data": {
            "image/png": "[encoded data removed]",
            "text/plain": [
              "<Figure size 576x576 with 2 Axes>"
            ]
          },
          "metadata": {
            "tags": []
          }
        }
      ]
    },
    {
      "cell_type": "markdown",
      "metadata": {
        "id": "UuaUwSAF3UJu",
        "colab_type": "text"
      },
      "source": [
        "Hypertension and Diabetes show very good correlation, whereas Scholarship and Age shows very poor correlation."
      ]
    }
  ]
}